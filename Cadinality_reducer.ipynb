{
  "nbformat": 4,
  "nbformat_minor": 0,
  "metadata": {
    "colab": {
      "name": "Cadinality_reducer.ipynb",
      "provenance": [],
      "collapsed_sections": [],
      "include_colab_link": true
    },
    "kernelspec": {
      "name": "python3",
      "display_name": "Python 3"
    }
  },
  "cells": [
    {
      "cell_type": "markdown",
      "metadata": {
        "id": "view-in-github",
        "colab_type": "text"
      },
      "source": [
        "<a href=\"https://colab.research.google.com/github/thollaar/BUAN5405-docs/blob/master/Cadinality_reducer.ipynb\" target=\"_parent\"><img src=\"https://colab.research.google.com/assets/colab-badge.svg\" alt=\"Open In Colab\"/></a>"
      ]
    },
    {
      "cell_type": "markdown",
      "metadata": {
        "id": "pxVoUyx69RV0"
      },
      "source": [
        "# Cardinality Reducer\n",
        "\n",
        "This code produces a cardinality reducer for your __categorical__ data."
      ]
    },
    {
      "cell_type": "code",
      "metadata": {
        "id": "66SHb1oD9OVO"
      },
      "source": [
        "#import sklearn.datasets\n",
        "import pandas as pd\n",
        "import numpy as np\n"
      ],
      "execution_count": null,
      "outputs": []
    },
    {
      "cell_type": "code",
      "metadata": {
        "id": "LIBB8oy59qp8"
      },
      "source": [
        "data_url = 'https://raw.githubusercontent.com/justmarkham/DAT8/master/data/chipotle.tsv'\n",
        "order_df = pd.read_csv(data_url, sep = '\\t')"
      ],
      "execution_count": null,
      "outputs": []
    },
    {
      "cell_type": "code",
      "metadata": {
        "id": "AVvsikiA9xRe",
        "outputId": "38ea4339-1520-48ef-abf3-f72c21dee9f8",
        "colab": {
          "base_uri": "https://localhost:8080/",
          "height": 206
        }
      },
      "source": [
        "order_df.head()"
      ],
      "execution_count": null,
      "outputs": [
        {
          "output_type": "execute_result",
          "data": {
            "text/html": [
              "<div>\n",
              "<style scoped>\n",
              "    .dataframe tbody tr th:only-of-type {\n",
              "        vertical-align: middle;\n",
              "    }\n",
              "\n",
              "    .dataframe tbody tr th {\n",
              "        vertical-align: top;\n",
              "    }\n",
              "\n",
              "    .dataframe thead th {\n",
              "        text-align: right;\n",
              "    }\n",
              "</style>\n",
              "<table border=\"1\" class=\"dataframe\">\n",
              "  <thead>\n",
              "    <tr style=\"text-align: right;\">\n",
              "      <th></th>\n",
              "      <th>order_id</th>\n",
              "      <th>quantity</th>\n",
              "      <th>item_name</th>\n",
              "      <th>choice_description</th>\n",
              "      <th>item_price</th>\n",
              "    </tr>\n",
              "  </thead>\n",
              "  <tbody>\n",
              "    <tr>\n",
              "      <th>0</th>\n",
              "      <td>1</td>\n",
              "      <td>1</td>\n",
              "      <td>Chips and Fresh Tomato Salsa</td>\n",
              "      <td>NaN</td>\n",
              "      <td>$2.39</td>\n",
              "    </tr>\n",
              "    <tr>\n",
              "      <th>1</th>\n",
              "      <td>1</td>\n",
              "      <td>1</td>\n",
              "      <td>Izze</td>\n",
              "      <td>[Clementine]</td>\n",
              "      <td>$3.39</td>\n",
              "    </tr>\n",
              "    <tr>\n",
              "      <th>2</th>\n",
              "      <td>1</td>\n",
              "      <td>1</td>\n",
              "      <td>Nantucket Nectar</td>\n",
              "      <td>[Apple]</td>\n",
              "      <td>$3.39</td>\n",
              "    </tr>\n",
              "    <tr>\n",
              "      <th>3</th>\n",
              "      <td>1</td>\n",
              "      <td>1</td>\n",
              "      <td>Chips and Tomatillo-Green Chili Salsa</td>\n",
              "      <td>NaN</td>\n",
              "      <td>$2.39</td>\n",
              "    </tr>\n",
              "    <tr>\n",
              "      <th>4</th>\n",
              "      <td>2</td>\n",
              "      <td>2</td>\n",
              "      <td>Chicken Bowl</td>\n",
              "      <td>[Tomatillo-Red Chili Salsa (Hot), [Black Beans...</td>\n",
              "      <td>$16.98</td>\n",
              "    </tr>\n",
              "  </tbody>\n",
              "</table>\n",
              "</div>"
            ],
            "text/plain": [
              "   order_id  ...  item_price\n",
              "0         1  ...      $2.39 \n",
              "1         1  ...      $3.39 \n",
              "2         1  ...      $3.39 \n",
              "3         1  ...      $2.39 \n",
              "4         2  ...     $16.98 \n",
              "\n",
              "[5 rows x 5 columns]"
            ]
          },
          "metadata": {
            "tags": []
          },
          "execution_count": 3
        }
      ]
    },
    {
      "cell_type": "markdown",
      "metadata": {
        "id": "4nHFxCKs_C2u"
      },
      "source": [
        "Clearly ``item_name`` is a __categorical__ field. But we still need to make sure."
      ]
    },
    {
      "cell_type": "code",
      "metadata": {
        "id": "FhIlgM7k-B2I",
        "outputId": "31305563-86dc-4a18-f262-d153b117f3ca",
        "colab": {
          "base_uri": "https://localhost:8080/"
        }
      },
      "source": [
        "order_df.dtypes"
      ],
      "execution_count": null,
      "outputs": [
        {
          "output_type": "execute_result",
          "data": {
            "text/plain": [
              "order_id               int64\n",
              "quantity               int64\n",
              "item_name             object\n",
              "choice_description    object\n",
              "item_price            object\n",
              "dtype: object"
            ]
          },
          "metadata": {
            "tags": []
          },
          "execution_count": 4
        }
      ]
    },
    {
      "cell_type": "markdown",
      "metadata": {
        "id": "2_TdsfLV_gdM"
      },
      "source": [
        "We still want to convert the data to the ``category`` data type to make sure."
      ]
    },
    {
      "cell_type": "code",
      "metadata": {
        "id": "UM9tPPfr-DtI",
        "outputId": "c3f35a5f-5ac9-407a-a0d1-b21cc6480df7",
        "colab": {
          "base_uri": "https://localhost:8080/"
        }
      },
      "source": [
        "item_names = order_df['item_name'].astype('category')\n",
        "item_names.dtype"
      ],
      "execution_count": null,
      "outputs": [
        {
          "output_type": "execute_result",
          "data": {
            "text/plain": [
              "CategoricalDtype(categories=['6 Pack Soft Drink', 'Barbacoa Bowl', 'Barbacoa Burrito',\n",
              "                  'Barbacoa Crispy Tacos', 'Barbacoa Salad Bowl',\n",
              "                  'Barbacoa Soft Tacos', 'Bottled Water', 'Bowl', 'Burrito',\n",
              "                  'Canned Soda', 'Canned Soft Drink', 'Carnitas Bowl',\n",
              "                  'Carnitas Burrito', 'Carnitas Crispy Tacos',\n",
              "                  'Carnitas Salad', 'Carnitas Salad Bowl',\n",
              "                  'Carnitas Soft Tacos', 'Chicken Bowl', 'Chicken Burrito',\n",
              "                  'Chicken Crispy Tacos', 'Chicken Salad',\n",
              "                  'Chicken Salad Bowl', 'Chicken Soft Tacos', 'Chips',\n",
              "                  'Chips and Fresh Tomato Salsa', 'Chips and Guacamole',\n",
              "                  'Chips and Mild Fresh Tomato Salsa',\n",
              "                  'Chips and Roasted Chili Corn Salsa',\n",
              "                  'Chips and Roasted Chili-Corn Salsa',\n",
              "                  'Chips and Tomatillo Green Chili Salsa',\n",
              "                  'Chips and Tomatillo Red Chili Salsa',\n",
              "                  'Chips and Tomatillo-Green Chili Salsa',\n",
              "                  'Chips and Tomatillo-Red Chili Salsa', 'Crispy Tacos',\n",
              "                  'Izze', 'Nantucket Nectar', 'Salad', 'Side of Chips',\n",
              "                  'Steak Bowl', 'Steak Burrito', 'Steak Crispy Tacos',\n",
              "                  'Steak Salad', 'Steak Salad Bowl', 'Steak Soft Tacos',\n",
              "                  'Veggie Bowl', 'Veggie Burrito', 'Veggie Crispy Tacos',\n",
              "                  'Veggie Salad', 'Veggie Salad Bowl', 'Veggie Soft Tacos'],\n",
              "                 ordered=False)"
            ]
          },
          "metadata": {
            "tags": []
          },
          "execution_count": 17
        }
      ]
    },
    {
      "cell_type": "markdown",
      "metadata": {
        "id": "7oS7Z5byAD1S"
      },
      "source": [
        "In this case we converted the data ourselves. For other data, we should test if the column(s) we want to work on are indeed categorical (``category`` or ``object``)."
      ]
    },
    {
      "cell_type": "code",
      "metadata": {
        "id": "XwsEPIgR-HTp",
        "outputId": "5e8cfd75-8460-4958-c5ec-3fdbe9016c6a",
        "colab": {
          "base_uri": "https://localhost:8080/"
        }
      },
      "source": [
        "if order_df['item_name'].dtypes == 'O':\n",
        "  print('categorical!')\n",
        "  # do whatever you want\n",
        "else:\n",
        "  raise(TypeError('Not categorical data!'))"
      ],
      "execution_count": null,
      "outputs": [
        {
          "output_type": "stream",
          "text": [
            "categorical!\n"
          ],
          "name": "stdout"
        }
      ]
    },
    {
      "cell_type": "markdown",
      "metadata": {
        "id": "3ShrPOD9B28u"
      },
      "source": [
        "We can use two types of methods to reduce the cardinality:\n",
        "- Top-N: preserve the top-N values by __count__, and replace the other values as 'other'\n",
        "- Threshold: preserve the values with __frequencies__ higher than the threshold, and replace the other values as 'other'\n",
        "- Other methods: such as clustering based method, binning based method, ...\n",
        "\n",
        "Let's look at the top-N method first ($N==5$)."
      ]
    },
    {
      "cell_type": "code",
      "metadata": {
        "id": "b1yBkZZaApnL",
        "outputId": "1375deb7-d521-49a5-9ce0-b4e4305801c5",
        "colab": {
          "base_uri": "https://localhost:8080/"
        }
      },
      "source": [
        "order_df['item_name'].value_counts() # automatically ranked"
      ],
      "execution_count": null,
      "outputs": [
        {
          "output_type": "execute_result",
          "data": {
            "text/plain": [
              "Chicken Bowl                             726\n",
              "Chicken Burrito                          553\n",
              "Chips and Guacamole                      479\n",
              "Steak Burrito                            368\n",
              "Canned Soft Drink                        301\n",
              "Steak Bowl                               211\n",
              "Chips                                    211\n",
              "Bottled Water                            162\n",
              "Chicken Soft Tacos                       115\n",
              "Chicken Salad Bowl                       110\n",
              "Chips and Fresh Tomato Salsa             110\n",
              "Canned Soda                              104\n",
              "Side of Chips                            101\n",
              "Veggie Burrito                            95\n",
              "Barbacoa Burrito                          91\n",
              "Veggie Bowl                               85\n",
              "Carnitas Bowl                             68\n",
              "Barbacoa Bowl                             66\n",
              "Carnitas Burrito                          59\n",
              "Steak Soft Tacos                          55\n",
              "6 Pack Soft Drink                         54\n",
              "Chips and Tomatillo Red Chili Salsa       48\n",
              "Chicken Crispy Tacos                      47\n",
              "Chips and Tomatillo Green Chili Salsa     43\n",
              "Carnitas Soft Tacos                       40\n",
              "Steak Crispy Tacos                        35\n",
              "Chips and Tomatillo-Green Chili Salsa     31\n",
              "Steak Salad Bowl                          29\n",
              "Nantucket Nectar                          27\n",
              "Barbacoa Soft Tacos                       25\n",
              "Chips and Roasted Chili Corn Salsa        22\n",
              "Chips and Tomatillo-Red Chili Salsa       20\n",
              "Izze                                      20\n",
              "Chips and Roasted Chili-Corn Salsa        18\n",
              "Veggie Salad Bowl                         18\n",
              "Barbacoa Crispy Tacos                     11\n",
              "Barbacoa Salad Bowl                       10\n",
              "Chicken Salad                              9\n",
              "Carnitas Crispy Tacos                      7\n",
              "Veggie Soft Tacos                          7\n",
              "Carnitas Salad Bowl                        6\n",
              "Veggie Salad                               6\n",
              "Burrito                                    6\n",
              "Steak Salad                                4\n",
              "Bowl                                       2\n",
              "Crispy Tacos                               2\n",
              "Salad                                      2\n",
              "Veggie Crispy Tacos                        1\n",
              "Chips and Mild Fresh Tomato Salsa          1\n",
              "Carnitas Salad                             1\n",
              "Name: item_name, dtype: int64"
            ]
          },
          "metadata": {
            "tags": []
          },
          "execution_count": 5
        }
      ]
    },
    {
      "cell_type": "code",
      "metadata": {
        "id": "nN9yKgOxCl2L",
        "outputId": "24043f97-9618-4e6c-807e-8b06fa497243",
        "colab": {
          "base_uri": "https://localhost:8080/"
        }
      },
      "source": [
        "# Let's assume we want top-5 values.\n",
        "N = 5\n",
        "\n",
        "topN = order_df['item_name'].value_counts()[:N].index\n",
        "topN"
      ],
      "execution_count": null,
      "outputs": [
        {
          "output_type": "execute_result",
          "data": {
            "text/plain": [
              "Index(['Chicken Bowl', 'Chicken Burrito', 'Chips and Guacamole',\n",
              "       'Steak Burrito', 'Canned Soft Drink'],\n",
              "      dtype='object')"
            ]
          },
          "metadata": {
            "tags": []
          },
          "execution_count": 7
        }
      ]
    },
    {
      "cell_type": "code",
      "metadata": {
        "id": "ie2Sqa1EC9-9",
        "outputId": "bd56c305-1db2-4a6d-8099-fefedd6371e6",
        "colab": {
          "base_uri": "https://localhost:8080/"
        }
      },
      "source": [
        "# reduced item names\n",
        "\n",
        "item_names_rdced = pd.Series(np.where(order_df['item_name'].isin(topN), order_df['item_name'], 'other'))\n",
        "\n",
        "item_names_rdced[:10]"
      ],
      "execution_count": null,
      "outputs": [
        {
          "output_type": "execute_result",
          "data": {
            "text/plain": [
              "0            other\n",
              "1            other\n",
              "2            other\n",
              "3            other\n",
              "4     Chicken Bowl\n",
              "5     Chicken Bowl\n",
              "6            other\n",
              "7    Steak Burrito\n",
              "8            other\n",
              "9    Steak Burrito\n",
              "dtype: object"
            ]
          },
          "metadata": {
            "tags": []
          },
          "execution_count": 8
        }
      ]
    },
    {
      "cell_type": "code",
      "metadata": {
        "id": "quq1_rJ3M0PN",
        "outputId": "81e91468-dbc3-4543-b627-fd0a16e4e283",
        "colab": {
          "base_uri": "https://localhost:8080/"
        }
      },
      "source": [
        "item_names_rdced.nunique()"
      ],
      "execution_count": null,
      "outputs": [
        {
          "output_type": "execute_result",
          "data": {
            "text/plain": [
              "6"
            ]
          },
          "metadata": {
            "tags": []
          },
          "execution_count": 9
        }
      ]
    },
    {
      "cell_type": "markdown",
      "metadata": {
        "id": "wQHlUDgjDvuO"
      },
      "source": [
        "Now let's check the threshold based methods ($thres >= 0.05$). "
      ]
    },
    {
      "cell_type": "code",
      "metadata": {
        "id": "6fI0TV0mDIku",
        "outputId": "31abc199-9468-4d94-e561-c11d307d2014",
        "colab": {
          "base_uri": "https://localhost:8080/"
        }
      },
      "source": [
        "cat_freqs = order_df['item_name'].value_counts(normalize=True)\n",
        "cat_freqs"
      ],
      "execution_count": null,
      "outputs": [
        {
          "output_type": "execute_result",
          "data": {
            "text/plain": [
              "Chicken Bowl                             0.157075\n",
              "Chicken Burrito                          0.119645\n",
              "Chips and Guacamole                      0.103635\n",
              "Steak Burrito                            0.079619\n",
              "Canned Soft Drink                        0.065123\n",
              "Steak Bowl                               0.045651\n",
              "Chips                                    0.045651\n",
              "Bottled Water                            0.035050\n",
              "Chicken Soft Tacos                       0.024881\n",
              "Chicken Salad Bowl                       0.023799\n",
              "Chips and Fresh Tomato Salsa             0.023799\n",
              "Canned Soda                              0.022501\n",
              "Side of Chips                            0.021852\n",
              "Veggie Burrito                           0.020554\n",
              "Barbacoa Burrito                         0.019688\n",
              "Veggie Bowl                              0.018390\n",
              "Carnitas Bowl                            0.014712\n",
              "Barbacoa Bowl                            0.014280\n",
              "Carnitas Burrito                         0.012765\n",
              "Steak Soft Tacos                         0.011900\n",
              "6 Pack Soft Drink                        0.011683\n",
              "Chips and Tomatillo Red Chili Salsa      0.010385\n",
              "Chicken Crispy Tacos                     0.010169\n",
              "Chips and Tomatillo Green Chili Salsa    0.009303\n",
              "Carnitas Soft Tacos                      0.008654\n",
              "Steak Crispy Tacos                       0.007572\n",
              "Chips and Tomatillo-Green Chili Salsa    0.006707\n",
              "Steak Salad Bowl                         0.006274\n",
              "Nantucket Nectar                         0.005842\n",
              "Barbacoa Soft Tacos                      0.005409\n",
              "Chips and Roasted Chili Corn Salsa       0.004760\n",
              "Chips and Tomatillo-Red Chili Salsa      0.004327\n",
              "Izze                                     0.004327\n",
              "Chips and Roasted Chili-Corn Salsa       0.003894\n",
              "Veggie Salad Bowl                        0.003894\n",
              "Barbacoa Crispy Tacos                    0.002380\n",
              "Barbacoa Salad Bowl                      0.002164\n",
              "Chicken Salad                            0.001947\n",
              "Carnitas Crispy Tacos                    0.001514\n",
              "Veggie Soft Tacos                        0.001514\n",
              "Carnitas Salad Bowl                      0.001298\n",
              "Veggie Salad                             0.001298\n",
              "Burrito                                  0.001298\n",
              "Steak Salad                              0.000865\n",
              "Bowl                                     0.000433\n",
              "Crispy Tacos                             0.000433\n",
              "Salad                                    0.000433\n",
              "Veggie Crispy Tacos                      0.000216\n",
              "Chips and Mild Fresh Tomato Salsa        0.000216\n",
              "Carnitas Salad                           0.000216\n",
              "Name: item_name, dtype: float64"
            ]
          },
          "metadata": {
            "tags": []
          },
          "execution_count": 10
        }
      ]
    },
    {
      "cell_type": "code",
      "metadata": {
        "id": "RVlczKUWECEz",
        "outputId": "e7ce42ce-d023-4809-963e-53d91fd7273f",
        "colab": {
          "base_uri": "https://localhost:8080/"
        }
      },
      "source": [
        "thres = 0.05\n",
        "\n",
        "top_cat = cat_freqs[cat_freqs>thres].index\n",
        "top_cat"
      ],
      "execution_count": null,
      "outputs": [
        {
          "output_type": "execute_result",
          "data": {
            "text/plain": [
              "Index(['Chicken Bowl', 'Chicken Burrito', 'Chips and Guacamole',\n",
              "       'Steak Burrito', 'Canned Soft Drink'],\n",
              "      dtype='object')"
            ]
          },
          "metadata": {
            "tags": []
          },
          "execution_count": 12
        }
      ]
    },
    {
      "cell_type": "code",
      "metadata": {
        "id": "M8gAFb-FEhtP",
        "outputId": "a17c9097-b95d-4c3a-fc60-ec2b0e5a58f5",
        "colab": {
          "base_uri": "https://localhost:8080/"
        }
      },
      "source": [
        "# reduced item names\n",
        "\n",
        "item_names_rdced_freq = np.where(order_df['item_name'].isin(top_cat), order_df['item_name'], 'other')\n",
        "\n",
        "item_names_rdced_freq[:10]"
      ],
      "execution_count": null,
      "outputs": [
        {
          "output_type": "execute_result",
          "data": {
            "text/plain": [
              "array(['other', 'other', 'other', 'other', 'Chicken Bowl', 'Chicken Bowl',\n",
              "       'other', 'Steak Burrito', 'other', 'Steak Burrito'], dtype=object)"
            ]
          },
          "metadata": {
            "tags": []
          },
          "execution_count": 13
        }
      ]
    },
    {
      "cell_type": "markdown",
      "metadata": {
        "id": "sCJg43QAE2uB"
      },
      "source": [
        "Now it's time to put everything together."
      ]
    },
    {
      "cell_type": "code",
      "metadata": {
        "id": "4r6ih1TpHZ2c",
        "outputId": "f0bbe6bb-4ecd-4607-b614-fb33fafce144",
        "colab": {
          "base_uri": "https://localhost:8080/"
        }
      },
      "source": [
        "order_df.dtypes"
      ],
      "execution_count": null,
      "outputs": [
        {
          "output_type": "execute_result",
          "data": {
            "text/plain": [
              "order_id               int64\n",
              "quantity               int64\n",
              "item_name             object\n",
              "choice_description    object\n",
              "item_price            object\n",
              "dtype: object"
            ]
          },
          "metadata": {
            "tags": []
          },
          "execution_count": 19
        }
      ]
    },
    {
      "cell_type": "code",
      "metadata": {
        "id": "Fx0pRq_vExeo"
      },
      "source": [
        "def card_reducer(cat_col, reduce_type='topn', N=3, thres=0.01, rpl_value = 'other'):\n",
        "  \"\"\"\n",
        "  This function reduces the cardinality of a categorcal feature, or multiple features.\n",
        "  Only the frequent values in the feature will be preserved, the other values will be changed to 'other'.\n",
        "\n",
        "  ARGUMENTS\n",
        "  -------------\n",
        "  - cat_col: (pandas Series) feature to be reduced, must be of categorical type\n",
        "  - reduce_type: (string) reduce method, can be 'topn' or 'thres'. \n",
        "    - 'topn' refers to the Top-N method, 'thres' refers to the threshold-based method. Default is 'topn'.\n",
        "  - N: (int) number of top count values to preserve, only used if 'topn' is selected in `type`.\n",
        "  - thres: (float) threshold of the frequency. Values with higher than the thresold are preserved. Only used if 'thres' is selected in type.\n",
        "  - rpl_value: (string) string used to replace the less frequent values. Default is 'other'.\n",
        "\n",
        "  OUTPUT\n",
        "  --------------\n",
        "  - reduced_values: (pandas Series) reduced column(s), with the names as 'col_name + _reduced'. And col_name is the original column name.\n",
        "  \"\"\"\n",
        "  # test for the data type\n",
        "  if cat_col.dtypes == 'O':\n",
        "    pass\n",
        "  \n",
        "  else:\n",
        "    #raise(TypeError('The feature is NOT categorical!'))\n",
        "\n",
        "\n",
        "    # Top-N Method\n",
        "    #### top_cat contains the preserved values\n",
        "    if (reduce_type == 'topn') & isinstance(N, int): # test if N is integer\n",
        "      top_cat = cat_col.value_counts()[:N].index\n",
        "    \n",
        "    # Threshold Method\n",
        "    #### top_cat contains the preserved values\n",
        "    elif (reduce_type == 'thres') & isinstance(thres, float): # test if thres is float\n",
        "      cat_freqs = cat_col.value_counts(normalize=True)\n",
        "      top_cat = cat_freqs[cat_freqs>thres].index\n",
        "    else:\n",
        "      raise(TypeError('N has to be integer! OR thres has to be float!'))\n",
        "\n",
        "    new_name = cat_col.name + '_reduced'\n",
        "    # reduced values\n",
        "    if isinstance(rpl_value, str): # test if the rpl_value is string\n",
        "      reduced_values = pd.Series(np.where(cat_col.isin(top_cat), cat_col, rpl_value), name=new_name)\n",
        "    else:\n",
        "      raise(TypeError('replace value has to be string!'))\n",
        "\n",
        "    ###############################################################################\n",
        "    # Build-in tests\n",
        "    #### reduced feature should be of the same shape compared to the original\n",
        "    if reduced_values.shape == cat_col.shape: \n",
        "      pass\n",
        "    else:\n",
        "      raise(ValueError('Shape of the reduced feature is different from the original.'))\n",
        "\n",
        "    #### test for data type of reduced feature\n",
        "    if reduced_values.dtypes == 'O':\n",
        "      pass\n",
        "    # do whatever you want\n",
        "    else:\n",
        "      raise(TypeError('The reduced feature is NOT categorical!'))\n",
        "\n",
        "\n",
        "    #### test for the top-N method\n",
        "    if (reduce_type == 'topn') & (reduced_values.nunique() == N + 1):\n",
        "      pass\n",
        "\n",
        "    #### test for the threshold method\n",
        "    elif (reduce_type == 'thres') & ((reduced_values.value_counts(normalize=True) >= thres).all()):\n",
        "      pass\n",
        "    else:\n",
        "      raise(ValueError('Not only the Top-N values are preserved, or values with the frequency lower than the threshold are preserved.'))\n",
        "    ###############################################################################\n",
        "    \n",
        "    return reduced_values"
      ],
      "execution_count": null,
      "outputs": []
    },
    {
      "cell_type": "code",
      "metadata": {
        "id": "V9WkDNJRdwKe",
        "outputId": "aca71dff-9c73-483b-f18e-6491dd4b5009",
        "colab": {
          "base_uri": "https://localhost:8080/"
        }
      },
      "source": [
        "# tony test dataframe we have now\n",
        "order_df.head(10)\n",
        "order_df['item_name'] = order_df['item_name'].astype('category')\n",
        "order_df.dtypes"
      ],
      "execution_count": null,
      "outputs": [
        {
          "output_type": "execute_result",
          "data": {
            "text/plain": [
              "order_id                 int64\n",
              "quantity                 int64\n",
              "item_name             category\n",
              "choice_description      object\n",
              "item_price              object\n",
              "dtype: object"
            ]
          },
          "metadata": {
            "tags": []
          },
          "execution_count": 24
        }
      ]
    },
    {
      "cell_type": "code",
      "metadata": {
        "id": "x8R7oOyieWKU",
        "outputId": "5ae41734-7a12-42d2-fe25-8f62435e1590",
        "colab": {
          "base_uri": "https://localhost:8080/",
          "height": 206
        }
      },
      "source": [
        "order_df.head()"
      ],
      "execution_count": null,
      "outputs": [
        {
          "output_type": "execute_result",
          "data": {
            "text/html": [
              "<div>\n",
              "<style scoped>\n",
              "    .dataframe tbody tr th:only-of-type {\n",
              "        vertical-align: middle;\n",
              "    }\n",
              "\n",
              "    .dataframe tbody tr th {\n",
              "        vertical-align: top;\n",
              "    }\n",
              "\n",
              "    .dataframe thead th {\n",
              "        text-align: right;\n",
              "    }\n",
              "</style>\n",
              "<table border=\"1\" class=\"dataframe\">\n",
              "  <thead>\n",
              "    <tr style=\"text-align: right;\">\n",
              "      <th></th>\n",
              "      <th>order_id</th>\n",
              "      <th>quantity</th>\n",
              "      <th>item_name</th>\n",
              "      <th>choice_description</th>\n",
              "      <th>item_price</th>\n",
              "    </tr>\n",
              "  </thead>\n",
              "  <tbody>\n",
              "    <tr>\n",
              "      <th>0</th>\n",
              "      <td>1</td>\n",
              "      <td>1</td>\n",
              "      <td>Chips and Fresh Tomato Salsa</td>\n",
              "      <td>NaN</td>\n",
              "      <td>$2.39</td>\n",
              "    </tr>\n",
              "    <tr>\n",
              "      <th>1</th>\n",
              "      <td>1</td>\n",
              "      <td>1</td>\n",
              "      <td>Izze</td>\n",
              "      <td>[Clementine]</td>\n",
              "      <td>$3.39</td>\n",
              "    </tr>\n",
              "    <tr>\n",
              "      <th>2</th>\n",
              "      <td>1</td>\n",
              "      <td>1</td>\n",
              "      <td>Nantucket Nectar</td>\n",
              "      <td>[Apple]</td>\n",
              "      <td>$3.39</td>\n",
              "    </tr>\n",
              "    <tr>\n",
              "      <th>3</th>\n",
              "      <td>1</td>\n",
              "      <td>1</td>\n",
              "      <td>Chips and Tomatillo-Green Chili Salsa</td>\n",
              "      <td>NaN</td>\n",
              "      <td>$2.39</td>\n",
              "    </tr>\n",
              "    <tr>\n",
              "      <th>4</th>\n",
              "      <td>2</td>\n",
              "      <td>2</td>\n",
              "      <td>Chicken Bowl</td>\n",
              "      <td>[Tomatillo-Red Chili Salsa (Hot), [Black Beans...</td>\n",
              "      <td>$16.98</td>\n",
              "    </tr>\n",
              "  </tbody>\n",
              "</table>\n",
              "</div>"
            ],
            "text/plain": [
              "   order_id  ...  item_price\n",
              "0         1  ...      $2.39 \n",
              "1         1  ...      $3.39 \n",
              "2         1  ...      $3.39 \n",
              "3         1  ...      $2.39 \n",
              "4         2  ...     $16.98 \n",
              "\n",
              "[5 rows x 5 columns]"
            ]
          },
          "metadata": {
            "tags": []
          },
          "execution_count": 26
        }
      ]
    },
    {
      "cell_type": "code",
      "metadata": {
        "id": "lr0V4lOOMCps"
      },
      "source": [
        "order_df['item_name'] = card_reducer(order_df['item_name'])"
      ],
      "execution_count": null,
      "outputs": []
    },
    {
      "cell_type": "code",
      "metadata": {
        "id": "DardZUK9esvG",
        "outputId": "cf3e01a8-27c2-407c-9107-97f7b91eb9cc",
        "colab": {
          "base_uri": "https://localhost:8080/",
          "height": 206
        }
      },
      "source": [
        "# tony test if card_reducer function worked\n",
        "order_df.head()"
      ],
      "execution_count": null,
      "outputs": [
        {
          "output_type": "execute_result",
          "data": {
            "text/html": [
              "<div>\n",
              "<style scoped>\n",
              "    .dataframe tbody tr th:only-of-type {\n",
              "        vertical-align: middle;\n",
              "    }\n",
              "\n",
              "    .dataframe tbody tr th {\n",
              "        vertical-align: top;\n",
              "    }\n",
              "\n",
              "    .dataframe thead th {\n",
              "        text-align: right;\n",
              "    }\n",
              "</style>\n",
              "<table border=\"1\" class=\"dataframe\">\n",
              "  <thead>\n",
              "    <tr style=\"text-align: right;\">\n",
              "      <th></th>\n",
              "      <th>order_id</th>\n",
              "      <th>quantity</th>\n",
              "      <th>item_name</th>\n",
              "      <th>choice_description</th>\n",
              "      <th>item_price</th>\n",
              "    </tr>\n",
              "  </thead>\n",
              "  <tbody>\n",
              "    <tr>\n",
              "      <th>0</th>\n",
              "      <td>1</td>\n",
              "      <td>1</td>\n",
              "      <td>other</td>\n",
              "      <td>NaN</td>\n",
              "      <td>$2.39</td>\n",
              "    </tr>\n",
              "    <tr>\n",
              "      <th>1</th>\n",
              "      <td>1</td>\n",
              "      <td>1</td>\n",
              "      <td>other</td>\n",
              "      <td>[Clementine]</td>\n",
              "      <td>$3.39</td>\n",
              "    </tr>\n",
              "    <tr>\n",
              "      <th>2</th>\n",
              "      <td>1</td>\n",
              "      <td>1</td>\n",
              "      <td>other</td>\n",
              "      <td>[Apple]</td>\n",
              "      <td>$3.39</td>\n",
              "    </tr>\n",
              "    <tr>\n",
              "      <th>3</th>\n",
              "      <td>1</td>\n",
              "      <td>1</td>\n",
              "      <td>other</td>\n",
              "      <td>NaN</td>\n",
              "      <td>$2.39</td>\n",
              "    </tr>\n",
              "    <tr>\n",
              "      <th>4</th>\n",
              "      <td>2</td>\n",
              "      <td>2</td>\n",
              "      <td>Chicken Bowl</td>\n",
              "      <td>[Tomatillo-Red Chili Salsa (Hot), [Black Beans...</td>\n",
              "      <td>$16.98</td>\n",
              "    </tr>\n",
              "  </tbody>\n",
              "</table>\n",
              "</div>"
            ],
            "text/plain": [
              "   order_id  ...  item_price\n",
              "0         1  ...      $2.39 \n",
              "1         1  ...      $3.39 \n",
              "2         1  ...      $3.39 \n",
              "3         1  ...      $2.39 \n",
              "4         2  ...     $16.98 \n",
              "\n",
              "[5 rows x 5 columns]"
            ]
          },
          "metadata": {
            "tags": []
          },
          "execution_count": 34
        }
      ]
    },
    {
      "cell_type": "code",
      "metadata": {
        "id": "zuLNgFdufGQb",
        "outputId": "e562edb2-de3e-449b-9065-e7dc7ef949fe",
        "colab": {
          "base_uri": "https://localhost:8080/"
        }
      },
      "source": [
        "order_df['item_name'].value_counts()"
      ],
      "execution_count": 35,
      "outputs": [
        {
          "output_type": "execute_result",
          "data": {
            "text/plain": [
              "other                  2864\n",
              "Chicken Bowl            726\n",
              "Chicken Burrito         553\n",
              "Chips and Guacamole     479\n",
              "Name: item_name, dtype: int64"
            ]
          },
          "metadata": {
            "tags": []
          },
          "execution_count": 35
        }
      ]
    },
    {
      "cell_type": "code",
      "metadata": {
        "id": "UPN2CLXDMMrn"
      },
      "source": [
        ""
      ],
      "execution_count": null,
      "outputs": []
    }
  ]
}